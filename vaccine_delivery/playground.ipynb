{
 "cells": [
  {
   "cell_type": "code",
   "execution_count": 1,
   "metadata": {},
   "outputs": [],
   "source": [
    "import matplotlib.pyplot as plt\n",
    "import matplotlib\n",
    "import seaborn as sns\n",
    "\n",
    "from components import *"
   ]
  },
  {
   "cell_type": "code",
   "execution_count": 2,
   "metadata": {
    "scrolled": true
   },
   "outputs": [
    {
     "name": "stdout",
     "output_type": "stream",
     "text": [
      "0\n",
      "1\n",
      "2\n",
      "3\n",
      "4\n"
     ]
    }
   ],
   "source": [
    "centre = drug_centre(cost_vaccine=10, fee_vaccine=10) \n",
    "dist = truncated_patient_arrival_distribution(max_arrivals=10, rate=6) \n",
    "agent = bellman_agent(max_vax=20,max_delivery=15)\n",
    "\n",
    "iteration = 0\n",
    "while not agent.is_policy_stable:\n",
    "    #if iteration % 10 == 0:\n",
    "    print(iteration)\n",
    "    agent.policy_evaluation(centre, dist, verbose=False)\n",
    "    agent.policy_improvement(centre, dist, verbose=False)\n",
    "    iteration += 1"
   ]
  },
  {
   "cell_type": "code",
   "execution_count": 3,
   "metadata": {},
   "outputs": [
    {
     "name": "stdout",
     "output_type": "stream",
     "text": [
      "[[9. 9. 9. 9. 9. 8. 8. 7. 7. 6. 5. 5. 4. 3. 3. 2. 2. 2. 1. 1. 0.]\n",
      " [9. 9. 9. 9. 8. 8. 7. 7. 6. 5. 5. 4. 3. 3. 2. 2. 2. 1. 1. 0. 0.]\n",
      " [9. 9. 9. 8. 8. 7. 7. 6. 5. 5. 4. 3. 3. 2. 2. 2. 1. 1. 0. 0. 0.]\n",
      " [9. 9. 8. 8. 7. 7. 6. 5. 5. 4. 3. 3. 2. 2. 2. 1. 1. 0. 0. 0. 0.]\n",
      " [9. 8. 8. 7. 7. 6. 5. 5. 4. 3. 3. 2. 2. 2. 1. 1. 0. 0. 0. 0. 0.]\n",
      " [9. 8. 8. 7. 6. 5. 5. 4. 3. 3. 2. 2. 2. 1. 1. 0. 0. 0. 0. 0. 0.]\n",
      " [9. 8. 7. 7. 6. 5. 4. 3. 3. 2. 2. 2. 1. 1. 0. 0. 0. 0. 0. 0. 0.]\n",
      " [9. 8. 7. 6. 5. 4. 4. 3. 2. 2. 2. 1. 1. 0. 0. 0. 0. 0. 0. 0. 0.]\n",
      " [9. 8. 7. 6. 5. 4. 4. 3. 2. 2. 1. 1. 0. 0. 0. 0. 0. 0. 0. 0. 0.]\n",
      " [9. 8. 7. 6. 5. 4. 3. 3. 2. 1. 1. 0. 0. 0. 0. 0. 0. 0. 0. 0. 0.]\n",
      " [9. 8. 7. 6. 5. 4. 3. 3. 2. 1. 0. 0. 0. 0. 0. 0. 0. 0. 0. 0. 0.]\n",
      " [9. 8. 7. 6. 5. 4. 3. 3. 2. 1. 0. 0. 0. 0. 0. 0. 0. 0. 0. 0. 0.]\n",
      " [9. 8. 7. 6. 5. 4. 3. 3. 2. 1. 0. 0. 0. 0. 0. 0. 0. 0. 0. 0. 0.]\n",
      " [9. 8. 7. 6. 5. 4. 3. 3. 2. 1. 0. 0. 0. 0. 0. 0. 0. 0. 0. 0. 0.]\n",
      " [9. 8. 7. 6. 5. 4. 3. 3. 2. 1. 0. 0. 0. 0. 0. 0. 0. 0. 0. 0. 0.]\n",
      " [9. 8. 7. 6. 5. 4. 3. 3. 2. 1. 0. 0. 0. 0. 0. 0. 0. 0. 0. 0. 0.]\n",
      " [9. 8. 7. 6. 5. 4. 3. 3. 2. 1. 0. 0. 0. 0. 0. 0. 0. 0. 0. 0. 0.]\n",
      " [9. 8. 7. 6. 5. 4. 3. 3. 2. 1. 0. 0. 0. 0. 0. 0. 0. 0. 0. 0. 0.]\n",
      " [9. 8. 7. 6. 5. 4. 3. 3. 2. 1. 0. 0. 0. 0. 0. 0. 0. 0. 0. 0. 0.]\n",
      " [9. 8. 7. 6. 5. 4. 3. 3. 2. 1. 0. 0. 0. 0. 0. 0. 0. 0. 0. 0. 0.]\n",
      " [9. 8. 7. 6. 5. 4. 3. 3. 2. 1. 0. 0. 0. 0. 0. 0. 0. 0. 0. 0. 0.]]\n"
     ]
    },
    {
     "data": {
      "text/plain": [
       "<matplotlib.image.AxesImage at 0x7fbdfa2dbc50>"
      ]
     },
     "execution_count": 3,
     "metadata": {},
     "output_type": "execute_result"
    },
    {
     "data": {
      "image/png": "[encoded data removed]",
      "text/plain": [
       "<Figure size 432x288 with 1 Axes>"
      ]
     },
     "metadata": {
      "needs_background": "light"
     },
     "output_type": "display_data"
    }
   ],
   "source": [
    "print(agent.policy)\n",
    "plt.imshow(agent.policy,cmap=\"YlGnBu\")"
   ]
  },
  {
   "cell_type": "code",
   "execution_count": 4,
   "metadata": {},
   "outputs": [
    {
     "data": {
      "text/plain": [
       "<matplotlib.image.AxesImage at 0x7fbdfa1e34e0>"
      ]
     },
     "execution_count": 4,
     "metadata": {},
     "output_type": "execute_result"
    },
    {
     "data": {
      "image/png": "[encoded data removed]",
      "text/plain": [
       "<Figure size 432x288 with 1 Axes>"
      ]
     },
     "metadata": {
      "needs_background": "light"
     },
     "output_type": "display_data"
    }
   ],
   "source": [
    "#print(agent.V)\n",
    "#print(np.max(agent.V))\n",
    "plt.imshow(agent.V,cmap=\"YlGnBu\")"
   ]
  },
  {
   "cell_type": "code",
   "execution_count": null,
   "metadata": {},
   "outputs": [],
   "source": []
  },
  {
   "cell_type": "code",
   "execution_count": null,
   "metadata": {},
   "outputs": [],
   "source": []
  },
  {
   "cell_type": "code",
   "execution_count": null,
   "metadata": {},
   "outputs": [],
   "source": []
  },
  {
   "cell_type": "code",
   "execution_count": null,
   "metadata": {},
   "outputs": [],
   "source": []
  },
  {
   "cell_type": "code",
   "execution_count": null,
   "metadata": {},
   "outputs": [],
   "source": []
  },
  {
   "cell_type": "code",
   "execution_count": null,
   "metadata": {},
   "outputs": [],
   "source": [
    "\n"
   ]
  },
  {
   "cell_type": "code",
   "execution_count": null,
   "metadata": {},
   "outputs": [],
   "source": [
    "test_centre = drug_centre(cost_vaccine=1, fee_vaccine=10, state=(4,0))\n",
    "\n",
    "for a in range(11):\n",
    "    print(agent.expected_reward(test_centre, a, agent.V, dist))"
   ]
  },
  {
   "cell_type": "code",
   "execution_count": null,
   "metadata": {},
   "outputs": [],
   "source": []
  },
  {
   "cell_type": "code",
   "execution_count": null,
   "metadata": {},
   "outputs": [],
   "source": []
  },
  {
   "cell_type": "code",
   "execution_count": null,
   "metadata": {},
   "outputs": [],
   "source": []
  },
  {
   "cell_type": "code",
   "execution_count": null,
   "metadata": {},
   "outputs": [],
   "source": [
    "results_2_10 = np.array(\n",
    "      [[5., 5., 5., 5., 5., 5., 5., 5., 4., 4., 4., 4., 3., 3.],\n",
    "       [5., 5., 5., 5., 5., 5., 5., 4., 4., 4., 4., 3., 3., 3.],\n",
    "       [5., 5., 5., 5., 5., 5., 4., 4., 4., 4., 3., 3., 3., 2.],\n",
    "       [5., 5., 5., 5., 5., 4., 4., 4., 4., 3., 3., 3., 2., 2.],\n",
    "       [5., 5., 5., 5., 4., 4., 4., 4., 3., 3., 3., 2., 2., 2.],\n",
    "       [5., 5., 5., 4., 4., 4., 4., 3., 3., 3., 2., 2., 2., 2.],\n",
    "       [5., 5., 4., 4., 4., 4., 3., 3., 3., 2., 2., 2., 2., 1.],\n",
    "       [5., 4., 4., 4., 4., 3., 3., 3., 2., 2., 2., 2., 1., 1.],\n",
    "       [4., 4., 4., 4., 3., 3., 3., 2., 2., 2., 2., 1., 1., 1.],\n",
    "       [4., 4., 4., 3., 3., 3., 2., 2., 2., 2., 1., 1., 1., 1.],\n",
    "       [4., 4., 3., 3., 3., 2., 2., 2., 2., 1., 1., 1., 1., 1.],\n",
    "       [4., 3., 3., 3., 2., 2., 2., 2., 1., 1., 1., 1., 1., 0.],\n",
    "       [3., 3., 3., 2., 2., 2., 2., 1., 1., 1., 1., 1., 0., 0.],\n",
    "       [3., 3, 2., 2., 2., 2., 1., 1., 1., 1., 1., 0., 0., 0.]])\n",
    "\n",
    "results_5_10 = np.array(\n",
    "      [[5., 5., 5., 5., 5., 5., 4., 4., 4., 4., 3., 3., 3., 3.],\n",
    "       [5., 5., 5., 5., 4., 4., 4., 4., 4., 3., 3., 3., 3., 3.],\n",
    "       [5., 5., 5., 4., 4., 4., 4., 4., 3., 3., 3., 3., 3., 2.],\n",
    "       [5., 5., 4., 4., 4., 4., 4., 3., 3., 3., 3., 2., 2., 2.],\n",
    "       [5., 4., 4., 4., 4., 3., 3., 3., 3., 2., 2., 2., 2., 2.],\n",
    "       [4., 4., 4., 4., 3., 3., 3., 3., 2., 2., 2., 2., 2., 2.],\n",
    "       [4., 4., 4., 3., 3., 3., 3., 3., 2., 2., 2., 2., 2., 1.],\n",
    "       [4., 4., 3., 3., 3., 3., 2., 2., 2., 2., 2., 1., 1., 1.],\n",
    "       [4., 3., 3., 3., 2., 2., 2., 2., 2., 1., 1., 1., 1., 1.],\n",
    "       [3., 3., 3., 2., 2., 2., 2., 2., 1., 1., 1., 1., 1., 1.],\n",
    "       [3., 3., 2., 2., 2., 2., 1., 1., 1., 1., 1., 1., 0., 0.],\n",
    "       [3., 2., 2., 2., 1., 1., 1., 1., 1., 1., 1., 0., 0., 0.],\n",
    "       [2., 2., 2., 1., 1., 1., 1., 1., 1., 0., 0., 0., 0., 0.],\n",
    "       [2., 2, 1., 1., 1., 1., 1., 0, 0., 0., 0., 0., 0., 0.]])"
   ]
  },
  {
   "cell_type": "code",
   "execution_count": null,
   "metadata": {},
   "outputs": [],
   "source": [
    "import matplotlib.pyplot as plt\n",
    "import matplotlib\n",
    "import seaborn as sns"
   ]
  },
  {
   "cell_type": "code",
   "execution_count": null,
   "metadata": {},
   "outputs": [],
   "source": [
    "_, axes = plt.subplots(1, 2, figsize=(30, 10))\n",
    "plt.subplots_adjust(wspace=0.1, hspace=0.2)\n",
    "matplotlib.rcParams.update({'font.size': 22})\n",
    "plt.rc('xtick', labelsize=14)    # fontsize of the tick labels\n",
    "plt.rc('ytick', labelsize=14)    # fontsize of the tick labels\n",
    "\n",
    "axes = axes.flatten()\n",
    "axes[-1].title.set_text('Reward: 1000 Penalty: 200')\n",
    "\n",
    "fig = sns.heatmap(\n",
    "#     np.flipud(results), \n",
    "    results_2_10,\n",
    "    cmap=\"YlGnBu\", \n",
    "    ax=axes[-1],\n",
    "    \n",
    ")\n",
    "fig.set_ylabel('# Old Vaccines ', fontsize=20)\n",
    "fig.set_xlabel('# New Vaccines ', fontsize=20)\n",
    "\n",
    "axes[-2].title.set_text('Reward: 1000 Penalty: 500')\n",
    "\n",
    "fig = sns.heatmap(\n",
    "#     np.flipud(results), \n",
    "    results_5_10,\n",
    "    cmap=\"YlGnBu\", \n",
    "    ax=axes[-2]\n",
    ")\n",
    "fig.set_ylabel('# Old Vaccines ', fontsize=20)\n",
    "fig.set_xlabel('# New Vaccines ', fontsize=20)\n"
   ]
  },
  {
   "cell_type": "code",
   "execution_count": null,
   "metadata": {},
   "outputs": [],
   "source": [
    "np.array([3., 3., 3., 4., 4., 4., 4., 4., 5., 5., 5., 5., 5., 5.],\n",
    "       [3., 3., 3., 3., 4., 4., 4., 4., 4., 5., 5., 5., 5., 5.],\n",
    "       [3., 3., 3., 3., 3., 4., 4., 4., 4., 4., 5., 5., 5., 5.],\n",
    "       [3., 3., 3., 3., 3., 3., 4., 4., 4., 4., 4., 5., 5., 5.],\n",
    "       [2., 3., 3., 3., 3., 3., 3., 4., 4., 4., 4., 4., 5., 5.],\n",
    "       [2., 2., 3., 3., 3., 3., 3., 3., 4., 4., 4., 4., 4., 5.],\n",
    "       [2., 2., 2., 3., 3., 3., 3., 3., 3., 4., 4., 4., 4., 4.],\n",
    "       [2., 2., 2., 2., 3., 3., 3., 3., 3., 3., 4., 4., 4., 4.],\n",
    "       [1., 2., 2., 2., 2., 3., 3., 3., 3., 3., 3., 4., 4., 4.],\n",
    "       [1., 1., 2., 2., 2., 2., 3., 3., 3., 3., 3., 3., 4., 4.],\n",
    "       [1., 1., 1., 2., 2., 2., 2., 3., 3., 3., 3., 3., 3., 4.],\n",
    "       [0., 0., 1., 1., 2., 2., 2., 2., 3., 3., 3., 3., 3., 3.],\n",
    "       [0., 0., 0., 1., 1., 2., 2., 2., 2., 3., 3., 3., 3., 3.],\n",
    "       [0., 0., 0., 1., 1., 1., 2., 2., 2., 2., 3., 3., 3., 3.])"
   ]
  },
  {
   "cell_type": "code",
   "execution_count": null,
   "metadata": {},
   "outputs": [],
   "source": [
    "V = agent.V\n",
    "policy = agent.policy"
   ]
  },
  {
   "cell_type": "code",
   "execution_count": null,
   "metadata": {},
   "outputs": [],
   "source": [
    "agent.policy_evaluation(centre, dist)"
   ]
  },
  {
   "cell_type": "code",
   "execution_count": null,
   "metadata": {},
   "outputs": [],
   "source": [
    "agent.policy_improvement(centre, dist)"
   ]
  },
  {
   "cell_type": "code",
   "execution_count": null,
   "metadata": {},
   "outputs": [],
   "source": [
    "agent.max_delivery"
   ]
  },
  {
   "cell_type": "code",
   "execution_count": null,
   "metadata": {},
   "outputs": [],
   "source": [
    "V"
   ]
  },
  {
   "cell_type": "code",
   "execution_count": null,
   "metadata": {},
   "outputs": [],
   "source": [
    "%%time\n",
    "for _ in range(50):\n",
    "    delta = 0\n",
    "    error = 0.01\n",
    "    for i in range(V.shape[0]):\n",
    "        for j in range(V.shape[1]):\n",
    "            v_old = V[i, j]\n",
    "            centre.reset((i, j))\n",
    "            V[i, j] = agent.expected_reward(\n",
    "                centre, policy[i,j], V, dist\n",
    "            )\n",
    "            delta = max([delta, np.abs(v_old - V[i, j])])\n",
    "    is_policy_stable = True\n",
    "    for i in range(V.shape[0]):\n",
    "        for j in range(V.shape[1]):\n",
    "            old_policy = policy[i, j]\n",
    "            action_rewards = np.zeros((agent.max_delivery+1))\n",
    "            centre.reset((i, j))\n",
    "            for delivery in range(agent.max_delivery+1):\n",
    "                action_rewards[delivery] = agent.expected_reward(\n",
    "                    centre, delivery, V, dist\n",
    "                )\n",
    "            policy[i, j] = int(np.argmax(action_rewards))\n",
    "            if is_policy_stable and (old_policy != policy[i, j]):\n",
    "                is_policy_stable = False"
   ]
  },
  {
   "cell_type": "code",
   "execution_count": null,
   "metadata": {},
   "outputs": [],
   "source": [
    "i = 4; j= 3"
   ]
  },
  {
   "cell_type": "code",
   "execution_count": null,
   "metadata": {},
   "outputs": [],
   "source": [
    "V"
   ]
  },
  {
   "cell_type": "code",
   "execution_count": null,
   "metadata": {},
   "outputs": [],
   "source": [
    "policy"
   ]
  },
  {
   "cell_type": "code",
   "execution_count": null,
   "metadata": {},
   "outputs": [],
   "source": []
  }
 ],
 "metadata": {
  "kernelspec": {
   "display_name": "Python 3",
   "language": "python",
   "name": "python3"
  },
  "language_info": {
   "codemirror_mode": {
    "name": "ipython",
    "version": 3
   },
   "file_extension": ".py",
   "mimetype": "text/x-python",
   "name": "python",
   "nbconvert_exporter": "python",
   "pygments_lexer": "ipython3",
   "version": "3.6.9"
  }
 },
 "nbformat": 4,
 "nbformat_minor": 4
}
